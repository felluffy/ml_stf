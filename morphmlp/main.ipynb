{
 "cells": [
  {
   "cell_type": "code",
   "execution_count": 4,
   "metadata": {},
   "outputs": [],
   "source": [
    "import torch\n",
    "import  numpy as np \n",
    "import cv2\n",
    "from timm.models.layers import DropPath"
   ]
  },
  {
   "cell_type": "code",
   "execution_count": null,
   "metadata": {},
   "outputs": [],
   "source": [
    "class Dataset(torch.utils.data.Dataset):\n",
    "    def __init__(self, res, csv, mode='train', frames=32), -> None:\n",
    "        super().__init__()"
   ]
  },
  {
   "cell_type": "code",
   "execution_count": 13,
   "metadata": {},
   "outputs": [],
   "source": [
    "#morph mlp\n",
    "class MorphFCT(torch.nn.Module):\n",
    "    def __init__(self, dim, chunk_dim, dropout=0.1) -> None:\n",
    "        super().__init__()\n",
    "        self.dim = dim\n",
    "        self.chunk_dim = chunk_dim\n",
    "        self.dropout = dropout\n",
    "        self.l1 = torch.nn.Linear(self.dim, self.dim)\n",
    "        self.l2 = torch.nn.Linear(self.dim, self.dim)\n",
    "        self.dropout = torch.nn.Dropout(dropout)\n",
    "        \n",
    "    def forward(self, x):\n",
    "        b, t, h, w, c = x.shape\n",
    "        k = c // self.chunk_dim\n",
    "        x_o = x\n",
    "        x = x.reshape(b, t, self.chunk_dim, (h * w) // self.chunk_dim, self.chunk_dim, k)\n",
    "        x = x.permute(0, 4, 3, 2, 1, 5)\n",
    "        x = x.reshape(b, self.chunk_dim, h,w, t*k)\n",
    "        x = self.l1(x)\n",
    "        x = x.reshape(b, self.chunk_dim, h, w, t, k)\n",
    "        x = x.permute(0, 4, 2, 3, 1, 5)\n",
    "        x = x.reshape(b,t,h,w,c)\n",
    "        x = self.dropout(x)\n",
    "        x = self.l2(x)\n",
    "        x = self.dropout(x)\n",
    "        return x\n",
    "            \n",
    "        \n",
    "#14,28,28,49\n",
    "class MorphFCS(torch.nn.Module):\n",
    "    def __init__(self, chunk_len, dim, dropout=0.1, bias=False, activation=torch.nn.GELU()) -> None:\n",
    "        super().__init__()\n",
    "        self.chunk_len = chunk_len\n",
    "        self.dim = dim\n",
    "        self.bias = bias \n",
    "        self.proj = torch.nn.Linear(self.dim, self.dim)\n",
    "        self.h = torch.nn.Linear(self.dim, self.dim, self.bias, activation=activation)\n",
    "        self.w = torch.nn.Linear(self.dim, self.dim, self.bias, activation=activation)\n",
    "        self.c = torch.nn.Linear(self.dim, self.dim, self.bias, activation=activation)\n",
    "        self.dropout = torch.nn.Dropout(dropout)\n",
    "        \n",
    "    def forward(self, x):\n",
    "        b, t, h, w, c = x.shape\n",
    "        hs = (h*w) // self.chunk_len\n",
    "        k = c // self.chunk_len\n",
    "        h_o = x.permute(0,1,3,2,4)\n",
    "        h_o = h_o.reshape(b, t, hs, self.chunk_len, self.chunk_len, k)\n",
    "        h_o = h_o.permute(0,1,2,4,3,5)\n",
    "        h_o = h_o.reshape(b, t, hs, self.chunk_len, self.chunk_len * k)\n",
    "\n",
    "        h_o = self.h(h_o)\n",
    "        h_o = h_o.reshape(b, t, hs, self.chunk_len, self.chunk_len, k)\n",
    "        h_o = h_o.permute(0,1,2,4,3,5).reshape(b, t, h, w, c).permute(0, 1, 3, 2, 4)\n",
    "        \n",
    "        w_o = x.permute(0,1,2,3,4)   \n",
    "        w_o = w_o.reshape(b, t, hs, self.chunk_len, self.chunk_len, k)\n",
    "        w_o = w_o.permute(0,1,2,4,3,5)\n",
    "        w_o = w_o.reshape(b, t, hs, self.chunk_len, self.chunk_len * k)\n",
    "    \n",
    "        w_o = self.w(w_o)\n",
    "        w_o = w_o.reshape(b, t, hs, self.chunk_len, self.chunk_len, k)\n",
    "        w_o = w_o.permute(0,1,2,4,3,5).reshape(b, t, h, w, c)\n",
    "        \n",
    "        c_o = self.c(x)\n",
    "        \n",
    "        o = h_o + w_o + c_o\n",
    "        \n",
    "        o = self.proj(o)\n",
    "        x = self.dropout(o)\n",
    "        return x\n",
    "########\n",
    "        \n",
    "class Mlp(torch.nn.Module):\n",
    "    def __init__(self, in_features, hidden_features, out_features, activation=torch.nn.GELU(), dropout=0.1) -> None:\n",
    "        super(Mlp).__init__()\n",
    "        self.in_feautres = in_features\n",
    "        self.out_features = out_features\n",
    "        self.hidden_features = hidden_features\n",
    "        self.activation = activation\n",
    "        self.dropout = dropout\n",
    "        self.l1 = torch.nn.Linear(self.in_features, self.hidden_features)\n",
    "        self.l2 = torch.nn.Linear(self.hidden_features, self.out_features)\n",
    "        self.dp = torch.nn.Dropout(self.dropout)\n",
    "        \n",
    "    def forward(self, x):\n",
    "        x = self.l1(x)\n",
    "        x = self.activation(x)\n",
    "        x = self.l2(x)\n",
    "        x = self.dp(x)\n",
    "        return x\n",
    "\n",
    "#######\n",
    "#mlp blocks 3,4,9,3\n",
    "#c = 112, 224, 392, 784 \n",
    "class MorphMLPBlock(torch.nn.Module):\n",
    "    def __init__(self, in_dim, chunk_dim, out_dim, skip_c = 1., stoch_drop=0.1, dropout=0.1, activation=None, normalizer=torch.nn.LayerNorm, mlp_ratio=2) -> None:\n",
    "        super().__init__()\n",
    "        self.mlp_ratio = mlp_ratio\n",
    "        self.in_dim = in_dim\n",
    "        self.out_dim = out_dim\n",
    "        self.chunk_dim = chunk_dim\n",
    "        self.dropout = dropout\n",
    "        self.activation = None\n",
    "        if activation == None:\n",
    "            self.activation = torch.nn.GELU()\n",
    "        else: \n",
    "            self.activation = activation()\n",
    "        self.normalizer1 = normalizer(self.in_dim)\n",
    "        self.normalizer2 = normalizer(self.in_dim)\n",
    "        self.normalizer3 = normalizer(self.in_dim)\n",
    "        \n",
    "        self.droppath = None\n",
    "        if stoch_drop > 0.0:\n",
    "            self.droppath = DropPath(stoch_drop)\n",
    "        else:\n",
    "            self.droppath = torch.nn.Identity()\n",
    "        \n",
    "        self.mfct = MorphFCT(self.in_dim, self.chunk_dim, activation=self.activation)\n",
    "        self.mfcs = MorphFCS(self.chunk_dim, self.in_dim, activation=self.activation)\n",
    "        self.mlp = Mlp(self.in_dim, (self.in_dim * self.mlp_ratio), self.in_dim, activation=self.activation)\n",
    "        self.skip_c = skip_c\n",
    "        \n",
    "        \n",
    "    def forward(self, x): \n",
    "        xt = self.normalizer1(x)\n",
    "        xt = self.mfct(xt)\n",
    "        x1 = x + xt\n",
    "        x1 = self.normalizer2(x1)\n",
    "        x1 = self.mfcs(x1)\n",
    "        x = x + self.droppath(x1) / self.skip_c\n",
    "        x2 = self.normalizer3(x)\n",
    "        x2 = self.mlp(x2)\n",
    "        x = x + self.droppath(x2) / self.skip_c\n",
    "        return x\n",
    "        \n",
    "\n",
    "#######\n",
    "\n",
    "\n",
    "class PatchEmbedder(torch.nn.Module):\n",
    "    def __init__(self, c1, in_chans,  k=(3,3,3), s=(2,4,4), p=(1,1,1), d=(1,2,2), normalizer=None) -> None:\n",
    "        super().__init__()\n",
    "        self.c1 = c1\n",
    "        self.in_chans = in_chans\n",
    "        self.conv = torch.nn.Conv3d(self.in_chans, c1, k, s, p, d)\n",
    "        self.normalizer = normalizer\n",
    "        if self.normalizer==None:\n",
    "            self.normalizer = torch.nn.BatchNorm3d(self.c1)\n",
    "    def forward(self, x):\n",
    "        x = self.conv(x)\n",
    "        x = self.normalizer(x)\n",
    "        \n",
    "        return x\n",
    "\n",
    "\n",
    "class DownSample(torch.nn.Module):\n",
    "    def __init__(self, in_chans, out_chans, k=(1,3,3), s=(1,2,2), p=(0,1,1), s_norm = True) -> None:\n",
    "        super().__init__()\n",
    "        self.conv3 = torch.nn.Conv3d(in_chans, out_chans, k, s, p)\n",
    "        self.layer_norm = torch.nn.LayerNorm(out_chans)\n",
    "        self.batch_norm = torch.nn.BatchNorm3d(out_chans,True)\n",
    "        self.s_norm = True\n",
    "    def forward(self, x):\n",
    "        # might need to permute dim\n",
    "        x = x.permute(0, 4, 1, 2, 3)\n",
    "        x = self.conv3(x)\n",
    "        x = x.permute(0, 2, 3, 4, 1)\n",
    "        if self.s_norm == False:\n",
    "            x = self.batch_norm(x)\n",
    "        else: \n",
    "            x = self.layer_norm(x)\n",
    "        return x\n",
    "\n",
    "#######\n",
    "class MorphMLP(torch.nn.Module):\n",
    "    def __init__(self, res=(224,224,3), num_classes=10, embed_dims=1000, stochcastic_drops = [], stages=[], chunks=[], ratios=[], pool_sz=3, normalizer=torch.nn.LayerNorm) -> None:\n",
    "        super().__init__()\n",
    "        assert(len(stochcastic_drops) == len(stages) and len(stages) == len(chunks) and len(res) == 3)\n",
    "        c = res[2]\n",
    "        self.num_classes = num_classes\n",
    "        self.pool_size = pool_sz\n",
    "        self.res = res\n",
    "        self.embed_dims = embed_dims\n",
    "        self.stochastic_drops = stochcastic_drops\n",
    "        self.stages = stages\n",
    "        self.ratios = ratios\n",
    "        self.chunks = chunks\n",
    "        self.patch_embedder = PatchEmbedder(embed_dims[0], c)\n",
    "        \n",
    "\n",
    "        curr_layer = []\n",
    "        for block_num in range(len(self.stages)):\n",
    "            for stage in self.stages[block_num]:\n",
    "                print('stage has {} layers'.format(stage))\n",
    "                for _ in range(stage):\n",
    "                    curr_layer.append(MorphMLPBlock(self.embed_dims[block_num], self.chunks[block_num], self.embed_dims[block_num], 1, self.stochastic_drops[block_num], mlp_ratio=self.ratios[block_num]))\n",
    "            if block_num < len(self.stages) - 1:\n",
    "                curr_layer.append(DownSample(self.embed_dims[block_num], self.embed_dims[block_num+1]))\n",
    "        self.network = torch.nn.Sequential(*curr_layer)    \n",
    "        self.l1 = torch.nn.Linear(self.embed_dims[len(self.embed_dims) - 1], self.embed_dims[len(self.embed_dims) - 1])\n",
    "        self.normalizer = normalizer(self.embed_dims[len(self.embed_dims) - 1])\n",
    "        self.dp1 = torch.nn.Dropout(.1)\n",
    "        self.avg_pooler = torch.nn.AdaptiveAvgPool3d(1)\n",
    "        self.head = torch.nn.Linear(self.embed_dims[len(self.embed_dims) - 1], self.num_classes)\n",
    "        \n",
    "    def forward(self, x):\n",
    "        x = self.patch_embedder(x)\n",
    "        x = x.permute(0, 2, 3, 4, 1)\n",
    "        x = self.network(x)\n",
    "        x = x.permute(0, 4, 1, 2, 3)\n",
    "        x = self.avg_pooler(x).flatten(1)\n",
    "        x = self.l1(x)\n",
    "        x = self.dp1(x)\n",
    "        x = self.normalizer(x)\n",
    "        x = self.head(x)\n",
    "        return x\n",
    "        \n",
    "    "
   ]
  },
  {
   "cell_type": "code",
   "execution_count": 171,
   "metadata": {},
   "outputs": [
    {
     "data": {
      "text/plain": [
       "torch.Size([1, 14, 56, 56, 112])"
      ]
     },
     "execution_count": 171,
     "metadata": {},
     "output_type": "execute_result"
    }
   ],
   "source": [
    "m = MorphFCT(112, 14)\n",
    "a = torch.rand(1, 14, 56, 56, 112)\n",
    "m(a).shape"
   ]
  },
  {
   "cell_type": "code",
   "execution_count": 180,
   "metadata": {},
   "outputs": [
    {
     "data": {
      "text/plain": [
       "torch.Size([1, 32, 64, 128, 128])"
      ]
     },
     "execution_count": 180,
     "metadata": {},
     "output_type": "execute_result"
    }
   ],
   "source": [
    "a = torch.rand(1, 3, 128, 512, 512)\n",
    "b = PatchEmbedder(32, 3)\n",
    "b(a).shape"
   ]
  },
  {
   "cell_type": "code",
   "execution_count": 169,
   "metadata": {},
   "outputs": [
    {
     "data": {
      "text/plain": [
       "torch.Size([1, 10, 112, 112, 56])"
      ]
     },
     "execution_count": 169,
     "metadata": {},
     "output_type": "execute_result"
    }
   ],
   "source": [
    "ds = DownSample(56//2, 56)\n",
    "a = torch.rand(1, 10, 224, 224, 56//2)\n",
    "ds(a).shape "
   ]
  },
  {
   "cell_type": "code",
   "execution_count": 2,
   "metadata": {},
   "outputs": [
    {
     "name": "stdout",
     "output_type": "stream",
     "text": [
      "5 5\n"
     ]
    }
   ],
   "source": [
    "print('{}'.format(5), 5)"
   ]
  },
  {
   "cell_type": "code",
   "execution_count": 12,
   "metadata": {},
   "outputs": [
    {
     "data": {
      "text/plain": [
       "torch.Size([50])"
      ]
     },
     "execution_count": 12,
     "metadata": {},
     "output_type": "execute_result"
    }
   ],
   "source": [
    "a = torch.rand(5, 10, 7, 7, 56//2)\n",
    "b = torch.nn.AdaptiveAvgPool3d(1)\n",
    "b(a).flatten().shape"
   ]
  },
  {
   "cell_type": "code",
   "execution_count": null,
   "metadata": {},
   "outputs": [],
   "source": []
  }
 ],
 "metadata": {
  "kernelspec": {
   "display_name": "Python 3.9.8 64-bit",
   "language": "python",
   "name": "python3"
  },
  "language_info": {
   "codemirror_mode": {
    "name": "ipython",
    "version": 3
   },
   "file_extension": ".py",
   "mimetype": "text/x-python",
   "name": "python",
   "nbconvert_exporter": "python",
   "pygments_lexer": "ipython3",
   "version": "3.9.8"
  },
  "orig_nbformat": 4,
  "vscode": {
   "interpreter": {
    "hash": "2469a70536e4d2335a2ea8907942d0699c37342a371ac185bdb5b0aa6f073890"
   }
  }
 },
 "nbformat": 4,
 "nbformat_minor": 2
}
